{
 "cells": [
  {
   "cell_type": "markdown",
   "id": "72569aad",
   "metadata": {},
   "source": [
    "# Background\n",
    "As the climate changes, predicting the weather becomes ever more important for businesses. Since the weather depends on a lot of different factors, we want to run a lot of experiments to determine what the best approach is to predict the weather.\n",
    "\n",
    "- In this project, we will use London Weather data sourced from [Kaggle](https://www.kaggle.com/datasets/emmanuelfwerr/london-weather-data) to try and predict the temperature.\n",
    "- The focus of this code-along is running machine learning experiments. We will first do some minor exploratory data analysis, and then use `MLflow` to run experiments on what models and what hyperparameters to use.\n",
    "- This is interesting for those of you that have already trained a machine learning model before and want to see how you can speed up the process of finding the best model.\n"
   ]
  },
  {
   "cell_type": "markdown",
   "id": "e430f017",
   "metadata": {},
   "source": [
    "# Import libraries\n",
    "First, we'll import necessary libraries, including **MLflow**.\n",
    "\n",
    "**MLflow** is an open-source platform designed to help manage the end-to-end machine learning lifecycle. It provides a comprehensive set of tools and features to streamline the process of building, training, and deploying machine learning models. Today, we'll be using MLflow for tracking experiments, hyperparameter tuning, model performance evaluation, and comparison and analysis of multiple models.\n",
    "\n",
    "To use MLflow, we first need to install the package, since it's not included in the workspace by default. Using the `!`, we can run a bash command to install it."
   ]
  },
  {
   "cell_type": "markdown",
   "id": "0b676d77",
   "metadata": {},
   "source": [
    "##After the installation, we can import all the libraries, including MLflow. \n",
    "\n",
    "- `pandas` to import and read, and edit the data\n",
    "- `numpy` is used for calculations. \n",
    "- `MLflow` is the library we'll use for structuring our machine learning experiments\n",
    "- `seaborn` is used for visualizations\n",
    "- `sklearn`, scikit-learn is used for machine learning, with functions such as data preprocessing, model training and prediction"
   ]
  },
  {
   "cell_type": "code",
   "execution_count": 1,
   "id": "e5fb3c2b",
   "metadata": {},
   "outputs": [],
   "source": [
    "import pandas as pd\n",
    "import numpy as np\n",
    "import seaborn as sns\n",
    "import mlflow\n",
    "import mlflow.sklearn\n",
    "from sklearn.model_selection import train_test_split\n",
    "from sklearn.metrics import mean_squared_error\n",
    "from sklearn.metrics import r2_score\n",
    "from sklearn.impute import SimpleImputer\n",
    "from sklearn.preprocessing import StandardScaler\n",
    "from sklearn.tree import DecisionTreeRegressor\n",
    "from sklearn.ensemble import RandomForestRegressor"
   ]
  },
  {
   "cell_type": "code",
   "execution_count": 2,
   "id": "9b5c1989",
   "metadata": {
    "scrolled": true
   },
   "outputs": [
    {
     "data": {
      "text/html": [
       "<div>\n",
       "<style scoped>\n",
       "    .dataframe tbody tr th:only-of-type {\n",
       "        vertical-align: middle;\n",
       "    }\n",
       "\n",
       "    .dataframe tbody tr th {\n",
       "        vertical-align: top;\n",
       "    }\n",
       "\n",
       "    .dataframe thead th {\n",
       "        text-align: right;\n",
       "    }\n",
       "</style>\n",
       "<table border=\"1\" class=\"dataframe\">\n",
       "  <thead>\n",
       "    <tr style=\"text-align: right;\">\n",
       "      <th></th>\n",
       "      <th>date</th>\n",
       "      <th>cloud_cover</th>\n",
       "      <th>sunshine</th>\n",
       "      <th>global_radiation</th>\n",
       "      <th>max_temp</th>\n",
       "      <th>mean_temp</th>\n",
       "      <th>min_temp</th>\n",
       "      <th>precipitation</th>\n",
       "      <th>pressure</th>\n",
       "      <th>snow_depth</th>\n",
       "    </tr>\n",
       "  </thead>\n",
       "  <tbody>\n",
       "    <tr>\n",
       "      <th>0</th>\n",
       "      <td>19790101</td>\n",
       "      <td>2.0</td>\n",
       "      <td>7.0</td>\n",
       "      <td>52.0</td>\n",
       "      <td>2.3</td>\n",
       "      <td>-4.1</td>\n",
       "      <td>-7.5</td>\n",
       "      <td>0.4</td>\n",
       "      <td>101900.0</td>\n",
       "      <td>9.0</td>\n",
       "    </tr>\n",
       "    <tr>\n",
       "      <th>1</th>\n",
       "      <td>19790102</td>\n",
       "      <td>6.0</td>\n",
       "      <td>1.7</td>\n",
       "      <td>27.0</td>\n",
       "      <td>1.6</td>\n",
       "      <td>-2.6</td>\n",
       "      <td>-7.5</td>\n",
       "      <td>0.0</td>\n",
       "      <td>102530.0</td>\n",
       "      <td>8.0</td>\n",
       "    </tr>\n",
       "    <tr>\n",
       "      <th>2</th>\n",
       "      <td>19790103</td>\n",
       "      <td>5.0</td>\n",
       "      <td>0.0</td>\n",
       "      <td>13.0</td>\n",
       "      <td>1.3</td>\n",
       "      <td>-2.8</td>\n",
       "      <td>-7.2</td>\n",
       "      <td>0.0</td>\n",
       "      <td>102050.0</td>\n",
       "      <td>4.0</td>\n",
       "    </tr>\n",
       "    <tr>\n",
       "      <th>3</th>\n",
       "      <td>19790104</td>\n",
       "      <td>8.0</td>\n",
       "      <td>0.0</td>\n",
       "      <td>13.0</td>\n",
       "      <td>-0.3</td>\n",
       "      <td>-2.6</td>\n",
       "      <td>-6.5</td>\n",
       "      <td>0.0</td>\n",
       "      <td>100840.0</td>\n",
       "      <td>2.0</td>\n",
       "    </tr>\n",
       "    <tr>\n",
       "      <th>4</th>\n",
       "      <td>19790105</td>\n",
       "      <td>6.0</td>\n",
       "      <td>2.0</td>\n",
       "      <td>29.0</td>\n",
       "      <td>5.6</td>\n",
       "      <td>-0.8</td>\n",
       "      <td>-1.4</td>\n",
       "      <td>0.0</td>\n",
       "      <td>102250.0</td>\n",
       "      <td>1.0</td>\n",
       "    </tr>\n",
       "  </tbody>\n",
       "</table>\n",
       "</div>"
      ],
      "text/plain": [
       "       date  cloud_cover  sunshine  global_radiation  max_temp  mean_temp  \\\n",
       "0  19790101          2.0       7.0              52.0       2.3       -4.1   \n",
       "1  19790102          6.0       1.7              27.0       1.6       -2.6   \n",
       "2  19790103          5.0       0.0              13.0       1.3       -2.8   \n",
       "3  19790104          8.0       0.0              13.0      -0.3       -2.6   \n",
       "4  19790105          6.0       2.0              29.0       5.6       -0.8   \n",
       "\n",
       "   min_temp  precipitation  pressure  snow_depth  \n",
       "0      -7.5            0.4  101900.0         9.0  \n",
       "1      -7.5            0.0  102530.0         8.0  \n",
       "2      -7.2            0.0  102050.0         4.0  \n",
       "3      -6.5            0.0  100840.0         2.0  \n",
       "4      -1.4            0.0  102250.0         1.0  "
      ]
     },
     "execution_count": 2,
     "metadata": {},
     "output_type": "execute_result"
    }
   ],
   "source": [
    "import pandas as pd\n",
    "\n",
    "file_path = r\"C:\\Users\\aaren\\OneDrive\\Desktop\\Weather London\\london_weather.csv\"\n",
    "# load dataset\n",
    "df = pd.read_csv(file_path)\n",
    "\n",
    "# show first 5 rows\n",
    "df.head(5)"
   ]
  },
  {
   "cell_type": "markdown",
   "id": "b9fc5abe",
   "metadata": {},
   "source": [
    "#### Load data\n",
    "We will be working with data stored in `london_weather.csv`, which contains the following columns:\n",
    "- **date** - recorded date of measurement - (**int**)\n",
    "- **cloud_cover** - cloud cover measurement in oktas - (**float**)\n",
    "- **sunshine** - sunshine measurement in hours (hrs) - (**float**)\n",
    "- **global_radiation** - irradiance measurement in Watt per square meter (W/m2) - (**float**)\n",
    "- **max_temp** - maximum temperature recorded in degrees Celsius (°C) - (**float**)\n",
    "- **mean_temp** - mean temperature in degrees Celsius (°C) - (**float**)\n",
    "- **min_temp** - minimum temperature recorded in degrees Celsius (°C) - (**float**)\n",
    "- **precipitation** - precipitation measurement in millimeters (mm) - (**float**)\n",
    "- **pressure** - pressure measurement in Pascals (Pa) - (**float**)\n",
    "- **snow_depth** - snow depth measurement in centimeters (cm) - (**float**)\n",
    "\n",
    "We'll load the dataset using the pandas `read_csv` function."
   ]
  },
  {
   "cell_type": "code",
   "execution_count": 3,
   "id": "76cebe79",
   "metadata": {},
   "outputs": [
    {
     "name": "stdout",
     "output_type": "stream",
     "text": [
      "<class 'pandas.core.frame.DataFrame'>\n",
      "RangeIndex: 15341 entries, 0 to 15340\n",
      "Data columns (total 10 columns):\n",
      " #   Column            Non-Null Count  Dtype  \n",
      "---  ------            --------------  -----  \n",
      " 0   date              15341 non-null  int64  \n",
      " 1   cloud_cover       15322 non-null  float64\n",
      " 2   sunshine          15341 non-null  float64\n",
      " 3   global_radiation  15322 non-null  float64\n",
      " 4   max_temp          15335 non-null  float64\n",
      " 5   mean_temp         15305 non-null  float64\n",
      " 6   min_temp          15339 non-null  float64\n",
      " 7   precipitation     15335 non-null  float64\n",
      " 8   pressure          15337 non-null  float64\n",
      " 9   snow_depth        13900 non-null  float64\n",
      "dtypes: float64(9), int64(1)\n",
      "memory usage: 1.2 MB\n"
     ]
    }
   ],
   "source": [
    "# show info\n",
    "df.info()"
   ]
  },
  {
   "cell_type": "markdown",
   "id": "ece9f3d9",
   "metadata": {},
   "source": [
    "### Exploratory Data Analysis\n",
    "Now that we have loaded the dataset, let's perform some exploratory data analysis to understand the data better. This includes handling missing values, feature engineering, and visualizing the data.\n",
    "\n",
    "- Use pandas `pd.to_datetime` function to adjust the type of the date column\n",
    "- Also add the year and month \n",
    "- Calculate the number of missing values using pandas `isna()`\n",
    "- Select the relevant weather columns\n",
    "- Groupby year and month and calculate the mean of the relevant metrics\n",
    "- Lineplot the mean temperature per month using `seaborn`\n",
    "- Barplot the mean sunshine per month\n",
    "- Visualize a heatmap to show the correlation of features using seaborn's `heatmap()` function and pandas `.corr()` function."
   ]
  },
  {
   "cell_type": "code",
   "execution_count": 4,
   "id": "d956dc43",
   "metadata": {},
   "outputs": [
    {
     "data": {
      "text/plain": [
       "date                   0\n",
       "cloud_cover           19\n",
       "sunshine               0\n",
       "global_radiation      19\n",
       "max_temp               6\n",
       "mean_temp             36\n",
       "min_temp               2\n",
       "precipitation          6\n",
       "pressure               4\n",
       "snow_depth          1441\n",
       "dtype: int64"
      ]
     },
     "execution_count": 4,
     "metadata": {},
     "output_type": "execute_result"
    }
   ],
   "source": [
    "# Converting 'date' column to datetime format\n",
    "df['date'] = pd.to_datetime(df['date'], format = '%Y%m%d')\n",
    "df\n",
    "# Check missing values\n",
    "df.isna().sum()\n"
   ]
  },
  {
   "cell_type": "code",
   "execution_count": 5,
   "id": "339db4a8",
   "metadata": {
    "scrolled": true
   },
   "outputs": [
    {
     "data": {
      "text/plain": [
       "<AxesSubplot:xlabel='year', ylabel='mean_temp'>"
      ]
     },
     "execution_count": 5,
     "metadata": {},
     "output_type": "execute_result"
    },
    {
     "data": {
      "image/png": "[encoded data removed]",
      "text/plain": [
       "<Figure size 432x288 with 1 Axes>"
      ]
     },
     "metadata": {
      "needs_background": "light"
     },
     "output_type": "display_data"
    }
   ],
   "source": [
    "# Grouping data by year and month, calculating mean of weather metrics\n",
    "df['year'] = df['date'].dt.year\n",
    "df['month'] = df['date'].dt.month\n",
    "\n",
    "df_per_month = df.groupby(['year','month'],as_index = False).mean()\n",
    "# Visualizing mean temperature\n",
    "sns.lineplot(x='year',y='mean_temp',data=df_per_month)"
   ]
  },
  {
   "cell_type": "code",
   "execution_count": 6,
   "id": "ac2faab3",
   "metadata": {},
   "outputs": [
    {
     "data": {
      "text/plain": [
       "<AxesSubplot:xlabel='month', ylabel='sunshine'>"
      ]
     },
     "execution_count": 6,
     "metadata": {},
     "output_type": "execute_result"
    },
    {
     "data": {
      "image/png": "[encoded data removed]",
      "text/plain": [
       "<Figure size 432x288 with 1 Axes>"
      ]
     },
     "metadata": {
      "needs_background": "light"
     },
     "output_type": "display_data"
    }
   ],
   "source": [
    "# Visualizing mean sunshine\n",
    "sns.barplot(x='month',y='sunshine',data=df_per_month)"
   ]
  },
  {
   "cell_type": "code",
   "execution_count": 7,
   "id": "c0c0a5be",
   "metadata": {},
   "outputs": [
    {
     "data": {
      "text/plain": [
       "<AxesSubplot:>"
      ]
     },
     "execution_count": 7,
     "metadata": {},
     "output_type": "execute_result"
    },
    {
     "data": {
      "image/png": "[encoded data removed]",
      "text/plain": [
       "<Figure size 432x288 with 2 Axes>"
      ]
     },
     "metadata": {
      "needs_background": "light"
     },
     "output_type": "display_data"
    }
   ],
   "source": [
    "# Visualizing heatmap of correlation\n",
    "sns.heatmap(df.corr(),annot=True)"
   ]
  },
  {
   "cell_type": "markdown",
   "id": "e1aa1c86",
   "metadata": {},
   "source": [
    "### Process data into train and test sets\n",
    "Next, we have a function to preprocess the dataframe into train and test samples. \n",
    "- In this function we impute and scale the features. Imputing is done to fill in missing values, in this case using the mean, and scaling is used to put all features on the same scale, which often improves the performance.\n",
    "- Important to note is that we split the train and test set before we do imputation and scaling, such that there is no data leakage between train and test set.\n",
    "- Before running the function, we will also drop rows in which the temperature variable is unknown. Since we need to be able to train and test on the target variable at all times."
   ]
  },
  {
   "cell_type": "code",
   "execution_count": 8,
   "id": "e5931301",
   "metadata": {},
   "outputs": [
    {
     "data": {
      "text/html": [
       "<div>\n",
       "<style scoped>\n",
       "    .dataframe tbody tr th:only-of-type {\n",
       "        vertical-align: middle;\n",
       "    }\n",
       "\n",
       "    .dataframe tbody tr th {\n",
       "        vertical-align: top;\n",
       "    }\n",
       "\n",
       "    .dataframe thead th {\n",
       "        text-align: right;\n",
       "    }\n",
       "</style>\n",
       "<table border=\"1\" class=\"dataframe\">\n",
       "  <thead>\n",
       "    <tr style=\"text-align: right;\">\n",
       "      <th></th>\n",
       "      <th>cloud_cover</th>\n",
       "      <th>sunshine</th>\n",
       "      <th>global_radiation</th>\n",
       "      <th>snow_depth</th>\n",
       "      <th>mean_temp</th>\n",
       "      <th>month</th>\n",
       "    </tr>\n",
       "  </thead>\n",
       "  <tbody>\n",
       "    <tr>\n",
       "      <th>0</th>\n",
       "      <td>2.0</td>\n",
       "      <td>7.0</td>\n",
       "      <td>52.0</td>\n",
       "      <td>9.0</td>\n",
       "      <td>-4.1</td>\n",
       "      <td>1</td>\n",
       "    </tr>\n",
       "    <tr>\n",
       "      <th>1</th>\n",
       "      <td>6.0</td>\n",
       "      <td>1.7</td>\n",
       "      <td>27.0</td>\n",
       "      <td>8.0</td>\n",
       "      <td>-2.6</td>\n",
       "      <td>1</td>\n",
       "    </tr>\n",
       "    <tr>\n",
       "      <th>2</th>\n",
       "      <td>5.0</td>\n",
       "      <td>0.0</td>\n",
       "      <td>13.0</td>\n",
       "      <td>4.0</td>\n",
       "      <td>-2.8</td>\n",
       "      <td>1</td>\n",
       "    </tr>\n",
       "    <tr>\n",
       "      <th>3</th>\n",
       "      <td>8.0</td>\n",
       "      <td>0.0</td>\n",
       "      <td>13.0</td>\n",
       "      <td>2.0</td>\n",
       "      <td>-2.6</td>\n",
       "      <td>1</td>\n",
       "    </tr>\n",
       "    <tr>\n",
       "      <th>4</th>\n",
       "      <td>6.0</td>\n",
       "      <td>2.0</td>\n",
       "      <td>29.0</td>\n",
       "      <td>1.0</td>\n",
       "      <td>-0.8</td>\n",
       "      <td>1</td>\n",
       "    </tr>\n",
       "    <tr>\n",
       "      <th>...</th>\n",
       "      <td>...</td>\n",
       "      <td>...</td>\n",
       "      <td>...</td>\n",
       "      <td>...</td>\n",
       "      <td>...</td>\n",
       "      <td>...</td>\n",
       "    </tr>\n",
       "    <tr>\n",
       "      <th>15336</th>\n",
       "      <td>1.0</td>\n",
       "      <td>0.9</td>\n",
       "      <td>32.0</td>\n",
       "      <td>NaN</td>\n",
       "      <td>7.5</td>\n",
       "      <td>12</td>\n",
       "    </tr>\n",
       "    <tr>\n",
       "      <th>15337</th>\n",
       "      <td>7.0</td>\n",
       "      <td>3.7</td>\n",
       "      <td>38.0</td>\n",
       "      <td>NaN</td>\n",
       "      <td>1.1</td>\n",
       "      <td>12</td>\n",
       "    </tr>\n",
       "    <tr>\n",
       "      <th>15338</th>\n",
       "      <td>7.0</td>\n",
       "      <td>0.0</td>\n",
       "      <td>21.0</td>\n",
       "      <td>NaN</td>\n",
       "      <td>2.6</td>\n",
       "      <td>12</td>\n",
       "    </tr>\n",
       "    <tr>\n",
       "      <th>15339</th>\n",
       "      <td>6.0</td>\n",
       "      <td>0.4</td>\n",
       "      <td>22.0</td>\n",
       "      <td>NaN</td>\n",
       "      <td>2.7</td>\n",
       "      <td>12</td>\n",
       "    </tr>\n",
       "    <tr>\n",
       "      <th>15340</th>\n",
       "      <td>7.0</td>\n",
       "      <td>1.3</td>\n",
       "      <td>34.0</td>\n",
       "      <td>NaN</td>\n",
       "      <td>-0.8</td>\n",
       "      <td>12</td>\n",
       "    </tr>\n",
       "  </tbody>\n",
       "</table>\n",
       "<p>15341 rows × 6 columns</p>\n",
       "</div>"
      ],
      "text/plain": [
       "       cloud_cover  sunshine  global_radiation  snow_depth  mean_temp  month\n",
       "0              2.0       7.0              52.0         9.0       -4.1      1\n",
       "1              6.0       1.7              27.0         8.0       -2.6      1\n",
       "2              5.0       0.0              13.0         4.0       -2.8      1\n",
       "3              8.0       0.0              13.0         2.0       -2.6      1\n",
       "4              6.0       2.0              29.0         1.0       -0.8      1\n",
       "...            ...       ...               ...         ...        ...    ...\n",
       "15336          1.0       0.9              32.0         NaN        7.5     12\n",
       "15337          7.0       3.7              38.0         NaN        1.1     12\n",
       "15338          7.0       0.0              21.0         NaN        2.6     12\n",
       "15339          6.0       0.4              22.0         NaN        2.7     12\n",
       "15340          7.0       1.3              34.0         NaN       -0.8     12\n",
       "\n",
       "[15341 rows x 6 columns]"
      ]
     },
     "execution_count": 8,
     "metadata": {},
     "output_type": "execute_result"
    }
   ],
   "source": [
    "relevant_columns = ['cloud_cover','sunshine','global_radiation','snow_depth','mean_temp','month']\n",
    "df = df[relevant_columns] ; #mean temp is the response variable\n",
    "df"
   ]
  },
  {
   "cell_type": "code",
   "execution_count": 9,
   "id": "7c279096",
   "metadata": {},
   "outputs": [],
   "source": [
    "def preprocess_df(df, feature_selection, target_var):\n",
    "    df = df.dropna(subset=[target_var]) #Drops any response values with null\n",
    "    X = df[feature_selection]    \n",
    "    y = df[target_var]\n",
    "    X_train, X_test, y_train, y_test = train_test_split(X, y, test_size=0.33, random_state=1)\n",
    "    \n",
    "    imputer = SimpleImputer(strategy=\"mean\")\n",
    "    X_train = imputer.fit_transform(X_train)\n",
    "    X_test  = imputer.transform(X_test)\n",
    "    \n",
    "    scaler = StandardScaler()\n",
    "    X_train = scaler.fit_transform(X_train)\n",
    "    X_test = scaler.transform(X_test)\n",
    "    return X_train, X_test, y_train, y_test\n",
    "\n",
    "feature_selection = ['month', 'cloud_cover', 'sunshine', 'global_radiation', 'snow_depth']\n",
    "target_var = 'mean_temp'\n",
    "X_train, X_test, y_train, y_test = preprocess_df(df, feature_selection, target_var)"
   ]
  },
  {
   "cell_type": "markdown",
   "id": "5fe19591",
   "metadata": {},
   "source": [
    "# Running a machine learning experiment\n",
    "Now we will move on to the bulk of this code-along, namely, running machine learning experiments. A simple example of training a machine learning model would go as follows:\n",
    "\n",
    "\n",
    "`lreg = LinearRegression().fit(X_train, y_train)`\n",
    "\n",
    "`y_pred = lreg.predict(x_test)`\n",
    "\n",
    "`rmse = np.sqrt(mean_squared_error(y_test, y_pred))`\n",
    "\n",
    "\n",
    "We train a linear regression model, predict the target variable and calculate the score of the model. Repeating this for different settings, and possibly another model would result in a lot of duplicate code. You could write functions to repeatedly go over different models and hyperparameters, but you can also use MLflow. MLflow allows you to run different experiments, log the experiments, and also save the model with the best result. Since we are limited to the workspaces, we focus on tracking and logging experiments in this project."
   ]
  },
  {
   "cell_type": "code",
   "execution_count": 10,
   "id": "739e886c",
   "metadata": {},
   "outputs": [
    {
     "name": "stderr",
     "output_type": "stream",
     "text": [
      "2023/12/03 11:31:05 WARNING mlflow.utils.git_utils: Failed to import Git (the Git executable is probably not on your PATH), so Git SHA is not available. Error: Failed to initialize: Bad git executable.\n",
      "The git executable must be specified in one of the following ways:\n",
      "    - be included in your $PATH\n",
      "    - be set via $GIT_PYTHON_GIT_EXECUTABLE\n",
      "    - explicitly set via git.refresh()\n",
      "\n",
      "All git commands will error until this is rectified.\n",
      "\n",
      "This initial warning can be silenced or aggravated in the future by setting the\n",
      "$GIT_PYTHON_REFRESH environment variable. Use one of the following values:\n",
      "    - quiet|q|silence|s|none|n|0: for no warning or exception\n",
      "    - warn|w|warning|1: for a printed warning\n",
      "    - error|e|raise|r|2: for a raised exception\n",
      "\n",
      "Example:\n",
      "    export GIT_PYTHON_REFRESH=quiet\n",
      "\n"
     ]
    },
    {
     "name": "stdout",
     "output_type": "stream",
     "text": [
      "Empty DataFrame\n",
      "Columns: [run_id, experiment_id, status, artifact_uri, start_time, end_time]\n",
      "Index: []\n"
     ]
    },
    {
     "name": "stderr",
     "output_type": "stream",
     "text": [
      "C:\\Users\\aaren\\Anaconda3\\lib\\site-packages\\_distutils_hack\\__init__.py:30: UserWarning: Setuptools is replacing distutils.\n",
      "  warnings.warn(\"Setuptools is replacing distutils.\")\n"
     ]
    }
   ],
   "source": [
    "mlflow.create_experiment('Example Experiment 1')\n",
    "\n",
    "with mlflow.start_run():\n",
    "    model = DecisionTreeRegressor()\n",
    "    model.fit(X_train, y_train)\n",
    "\n",
    "    # Predict on the test set\n",
    "    y_pred = model.predict(X_test)\n",
    "\n",
    "    # Calculate RMSE\n",
    "    mse = mean_squared_error(y_test, y_pred, squared=False)\n",
    "\n",
    "    # Log hyperparameters and metrics\n",
    "    mlflow.set_experiment_tag(\"model\", \"decision tree\")\n",
    "    mlflow.log_metric(\"mse\", mse)\n",
    "\n",
    "    # Save the model\n",
    "    mlflow.sklearn.log_model(model, \"model\")\n",
    "    \n",
    "mlflow.search_runs(experiment_names=[\"Example Experiment 1\"])\n",
    "\n",
    "print(mlflow.search_runs(experiment_names=[\"Example Experiment 1\"]))"
   ]
  },
  {
   "cell_type": "code",
   "execution_count": 11,
   "id": "4ab91cde",
   "metadata": {},
   "outputs": [],
   "source": [
    "# Define experiment name\n",
    "experiment_name = 'Regression r1'\n",
    "experiment_id = mlflow.create_experiment(experiment_name)\n",
    "\n",
    "\n",
    "# Setup for loop\n",
    "for idx, depth in enumerate([1,2,5,10,20]):\n",
    "    parameters = {\n",
    "        'max_depth': depth,\n",
    "        'random_state': 1\n",
    "    }\n",
    "    run_name = f\"run_{idx}\"\n",
    "    \n",
    "    with mlflow.start_run(experiment_id=experiment_id, run_name=run_name):\n",
    "        dreg = DecisionTreeRegressor(**parameters).fit(X_train, y_train)\n",
    "        rfreg = RandomForestRegressor(**parameters).fit(X_train,y_train)\n",
    "        \n",
    "        dreg_predict = dreg.predict(X_test)\n",
    "        rfreg_predict = rfreg.predict(X_test)\n",
    "        \n",
    "        dreg_r2 = r2_score(y_test,dreg_predict)\n",
    "        rfreg_r2 = r2_score(y_test,rfreg_predict)\n",
    "        \n",
    "        mlflow.log_param('max_depth',depth)\n",
    "        \n",
    "        mlflow.log_metric('dreg_r2',dreg_r2)\n",
    "        mlflow.log_metric('rfreg_r2',rfreg_r2)"
   ]
  },
  {
   "cell_type": "code",
   "execution_count": 12,
   "id": "4ebe3c20",
   "metadata": {},
   "outputs": [
    {
     "data": {
      "text/html": [
       "<div>\n",
       "<style scoped>\n",
       "    .dataframe tbody tr th:only-of-type {\n",
       "        vertical-align: middle;\n",
       "    }\n",
       "\n",
       "    .dataframe tbody tr th {\n",
       "        vertical-align: top;\n",
       "    }\n",
       "\n",
       "    .dataframe thead th {\n",
       "        text-align: right;\n",
       "    }\n",
       "</style>\n",
       "<table border=\"1\" class=\"dataframe\">\n",
       "  <thead>\n",
       "    <tr style=\"text-align: right;\">\n",
       "      <th></th>\n",
       "      <th>run_id</th>\n",
       "      <th>experiment_id</th>\n",
       "      <th>status</th>\n",
       "      <th>artifact_uri</th>\n",
       "      <th>start_time</th>\n",
       "      <th>end_time</th>\n",
       "      <th>metrics.dreg_r2</th>\n",
       "      <th>metrics.rfreg_r2</th>\n",
       "      <th>params.max_depth</th>\n",
       "      <th>tags.mlflow.runName</th>\n",
       "      <th>tags.mlflow.source.name</th>\n",
       "      <th>tags.mlflow.source.type</th>\n",
       "      <th>tags.mlflow.user</th>\n",
       "    </tr>\n",
       "  </thead>\n",
       "  <tbody>\n",
       "    <tr>\n",
       "      <th>0</th>\n",
       "      <td>4b51495e2e934014926b74978fb7ef8a</td>\n",
       "      <td>208917151514441553</td>\n",
       "      <td>FINISHED</td>\n",
       "      <td>file:///C:/Users/aaren/mlruns/2089171515144415...</td>\n",
       "      <td>2023-12-03 12:48:04.440000+00:00</td>\n",
       "      <td>2023-12-03 12:48:06.051000+00:00</td>\n",
       "      <td>0.609961</td>\n",
       "      <td>0.740943</td>\n",
       "      <td>20</td>\n",
       "      <td>run_4</td>\n",
       "      <td>C:\\Users\\aaren\\Anaconda3\\lib\\site-packages\\ipy...</td>\n",
       "      <td>LOCAL</td>\n",
       "      <td>Phil</td>\n",
       "    </tr>\n",
       "    <tr>\n",
       "      <th>1</th>\n",
       "      <td>5d3a2389ac5146e78ebb6bea56fccf59</td>\n",
       "      <td>208917151514441553</td>\n",
       "      <td>FINISHED</td>\n",
       "      <td>file:///C:/Users/aaren/mlruns/2089171515144415...</td>\n",
       "      <td>2023-12-03 12:48:03.362000+00:00</td>\n",
       "      <td>2023-12-03 12:48:04.431000+00:00</td>\n",
       "      <td>0.741046</td>\n",
       "      <td>0.768281</td>\n",
       "      <td>10</td>\n",
       "      <td>run_3</td>\n",
       "      <td>C:\\Users\\aaren\\Anaconda3\\lib\\site-packages\\ipy...</td>\n",
       "      <td>LOCAL</td>\n",
       "      <td>Phil</td>\n",
       "    </tr>\n",
       "    <tr>\n",
       "      <th>2</th>\n",
       "      <td>1636f7a5dbd74d1f99dc1c26ecbeb90d</td>\n",
       "      <td>208917151514441553</td>\n",
       "      <td>FINISHED</td>\n",
       "      <td>file:///C:/Users/aaren/mlruns/2089171515144415...</td>\n",
       "      <td>2023-12-03 12:48:02.748000+00:00</td>\n",
       "      <td>2023-12-03 12:48:03.352000+00:00</td>\n",
       "      <td>0.731995</td>\n",
       "      <td>0.742707</td>\n",
       "      <td>5</td>\n",
       "      <td>run_2</td>\n",
       "      <td>C:\\Users\\aaren\\Anaconda3\\lib\\site-packages\\ipy...</td>\n",
       "      <td>LOCAL</td>\n",
       "      <td>Phil</td>\n",
       "    </tr>\n",
       "    <tr>\n",
       "      <th>3</th>\n",
       "      <td>deb682bb3da74117a29046c75d57155f</td>\n",
       "      <td>208917151514441553</td>\n",
       "      <td>FINISHED</td>\n",
       "      <td>file:///C:/Users/aaren/mlruns/2089171515144415...</td>\n",
       "      <td>2023-12-03 12:48:02.387000+00:00</td>\n",
       "      <td>2023-12-03 12:48:02.740000+00:00</td>\n",
       "      <td>0.535798</td>\n",
       "      <td>0.554477</td>\n",
       "      <td>2</td>\n",
       "      <td>run_1</td>\n",
       "      <td>C:\\Users\\aaren\\Anaconda3\\lib\\site-packages\\ipy...</td>\n",
       "      <td>LOCAL</td>\n",
       "      <td>Phil</td>\n",
       "    </tr>\n",
       "    <tr>\n",
       "      <th>4</th>\n",
       "      <td>3f727f2d28a34377944696c774f9d315</td>\n",
       "      <td>208917151514441553</td>\n",
       "      <td>FINISHED</td>\n",
       "      <td>file:///C:/Users/aaren/mlruns/2089171515144415...</td>\n",
       "      <td>2023-12-03 12:48:02.100000+00:00</td>\n",
       "      <td>2023-12-03 12:48:02.370000+00:00</td>\n",
       "      <td>0.316893</td>\n",
       "      <td>0.332191</td>\n",
       "      <td>1</td>\n",
       "      <td>run_0</td>\n",
       "      <td>C:\\Users\\aaren\\Anaconda3\\lib\\site-packages\\ipy...</td>\n",
       "      <td>LOCAL</td>\n",
       "      <td>Phil</td>\n",
       "    </tr>\n",
       "  </tbody>\n",
       "</table>\n",
       "</div>"
      ],
      "text/plain": [
       "                             run_id       experiment_id    status  \\\n",
       "0  4b51495e2e934014926b74978fb7ef8a  208917151514441553  FINISHED   \n",
       "1  5d3a2389ac5146e78ebb6bea56fccf59  208917151514441553  FINISHED   \n",
       "2  1636f7a5dbd74d1f99dc1c26ecbeb90d  208917151514441553  FINISHED   \n",
       "3  deb682bb3da74117a29046c75d57155f  208917151514441553  FINISHED   \n",
       "4  3f727f2d28a34377944696c774f9d315  208917151514441553  FINISHED   \n",
       "\n",
       "                                        artifact_uri  \\\n",
       "0  file:///C:/Users/aaren/mlruns/2089171515144415...   \n",
       "1  file:///C:/Users/aaren/mlruns/2089171515144415...   \n",
       "2  file:///C:/Users/aaren/mlruns/2089171515144415...   \n",
       "3  file:///C:/Users/aaren/mlruns/2089171515144415...   \n",
       "4  file:///C:/Users/aaren/mlruns/2089171515144415...   \n",
       "\n",
       "                        start_time                         end_time  \\\n",
       "0 2023-12-03 12:48:04.440000+00:00 2023-12-03 12:48:06.051000+00:00   \n",
       "1 2023-12-03 12:48:03.362000+00:00 2023-12-03 12:48:04.431000+00:00   \n",
       "2 2023-12-03 12:48:02.748000+00:00 2023-12-03 12:48:03.352000+00:00   \n",
       "3 2023-12-03 12:48:02.387000+00:00 2023-12-03 12:48:02.740000+00:00   \n",
       "4 2023-12-03 12:48:02.100000+00:00 2023-12-03 12:48:02.370000+00:00   \n",
       "\n",
       "   metrics.dreg_r2  metrics.rfreg_r2 params.max_depth tags.mlflow.runName  \\\n",
       "0         0.609961          0.740943               20               run_4   \n",
       "1         0.741046          0.768281               10               run_3   \n",
       "2         0.731995          0.742707                5               run_2   \n",
       "3         0.535798          0.554477                2               run_1   \n",
       "4         0.316893          0.332191                1               run_0   \n",
       "\n",
       "                             tags.mlflow.source.name tags.mlflow.source.type  \\\n",
       "0  C:\\Users\\aaren\\Anaconda3\\lib\\site-packages\\ipy...                   LOCAL   \n",
       "1  C:\\Users\\aaren\\Anaconda3\\lib\\site-packages\\ipy...                   LOCAL   \n",
       "2  C:\\Users\\aaren\\Anaconda3\\lib\\site-packages\\ipy...                   LOCAL   \n",
       "3  C:\\Users\\aaren\\Anaconda3\\lib\\site-packages\\ipy...                   LOCAL   \n",
       "4  C:\\Users\\aaren\\Anaconda3\\lib\\site-packages\\ipy...                   LOCAL   \n",
       "\n",
       "  tags.mlflow.user  \n",
       "0             Phil  \n",
       "1             Phil  \n",
       "2             Phil  \n",
       "3             Phil  \n",
       "4             Phil  "
      ]
     },
     "execution_count": 12,
     "metadata": {},
     "output_type": "execute_result"
    }
   ],
   "source": [
    "mlflow.search_runs(experiment_names=[experiment_name])"
   ]
  }
 ],
 "metadata": {
  "kernelspec": {
   "display_name": "Python 3 (ipykernel)",
   "language": "python",
   "name": "python3"
  },
  "language_info": {
   "codemirror_mode": {
    "name": "ipython",
    "version": 3
   },
   "file_extension": ".py",
   "mimetype": "text/x-python",
   "name": "python",
   "nbconvert_exporter": "python",
   "pygments_lexer": "ipython3",
   "version": "3.9.12"
  }
 },
 "nbformat": 4,
 "nbformat_minor": 5
}
